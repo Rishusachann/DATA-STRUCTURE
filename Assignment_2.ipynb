{
  "nbformat": 4,
  "nbformat_minor": 0,
  "metadata": {
    "colab": {
      "provenance": []
    },
    "kernelspec": {
      "name": "python3",
      "display_name": "Python 3"
    },
    "language_info": {
      "name": "python"
    }
  },
  "cells": [
    {
      "cell_type": "markdown",
      "source": [
        "**Data Types And Structures Questions**\n",
        "1. What are data structures, and why are they important?\n",
        "   \n",
        "   ANS. Data structures are ways of organizing and storing data in a computer so it can be accessed and modified efficiently. They are important because they determine how effectively data can be processed, enabling faster and more optimized algorithms in software development.\n",
        "\n",
        "2. Explain the difference between mutable and immutable data types with examples\n",
        "\n",
        "   ANS. Mutable data types can be changed after they are created, while immutable data types cannot be changed once created.\n",
        "   Example- list is mutable and tupple is immutable.\n",
        "\n",
        "3.  What are the main differences between lists and tuples in Python?\n",
        "\n",
        "   ANS. Lists are **mutable** and use square brackets `[ ]`, meaning their content can change. Tuples are **immutable** and use parentheses `( )`, so their content cannot be changed. Tuples are faster and used for fixed data, while lists are used for dynamic data.\n",
        "\n",
        "4. Describe how dictionaries store data?\n",
        "\n",
        "   ANS. Dictionaries in Python store data as key-value pairs, where each unique key maps to a specific value\n",
        "\n",
        "5. Why might you use a set instead of a list in Python?\n",
        "\n",
        "   ANS. You might use a set instead of a list in Python when you need to store **unique items** and want **fast membership testing**. Sets automatically remove duplicates and provide quicker lookup times compared to lists, especially with large data. However, unlike lists, sets are **unordered** and do not support indexing.\n",
        "\n",
        "6. What is a string in Python, and how is it different from a list?\n",
        "\n",
        "   ANS. A **string** in Python is a sequence of characters enclosed in quotes, like `\"hello\"`. It is **immutable**, meaning its content cannot be changed after creation. A **list**, on the other hand, is a collection of items (which can be of different types) enclosed in square brackets, like `[1, \"apple\", 3.14]`. Lists are **mutable**, meaning their content can be changed, and they can hold any type of data, while strings only store characters.\n",
        "\n",
        "7.  How do tuples ensure data integrity in Python?\n",
        "\n",
        "   ANS. Tuples ensure data integrity in Python by being **immutable**. Once a tuple is created, its contents cannot be changed, which prevents accidental modification of data. This makes tuples useful for storing data that should remain constant throughout the program, ensuring the integrity of the information.\n",
        "\n",
        "8. What is a hash table, and how does it relate to dictionaries in Python?\n",
        "\n",
        "   ANS. A **hash table** is a data structure that stores data in key-value pairs and uses a **hash function** to convert the key into an index for fast access to the value. In Python, **dictionaries** are implemented using hash tables, allowing for fast lookups, insertions, and deletions based on keys. The key is hashed to find its corresponding value, making dictionaries efficient in terms of performance.\n",
        "\n",
        "9.  Can lists contain different data types in Python?\n",
        "\n",
        "   ANS. YES it contain differnt data types in python\n",
        "\n",
        "10. Explain why strings are immutable in Python?\n",
        "\n",
        "   ANS. Strings are immutable in Python to ensure data integrity and performance. Since strings are often used in multiple places, making them immutable prevents accidental changes, which helps avoid bugs.\n",
        "\n",
        "11. What advantages do dictionaries offer over lists for certain tasks?\n",
        "\n",
        "   ANS. Dictionaries offer several advantages over lists for certain tasks:\n",
        "\n",
        "   **Fast lookups**: Dictionaries use keys for fast access to values, whereas lists require searching through each item.\n",
        "   **Unique keys**: In dictionaries, each key is unique, making it easier to store and retrieve data without duplicates.\n",
        "   **Key-value pairing**: Dictionaries store data in a structured way (key-value pairs), making it ideal for mapping relationships, like a phone book (name → number).\n",
        "\n",
        "12. Describe a scenario where using a tuple would be preferable over a list?\n",
        "\n",
        "   ANS.  For example, if you're storing coordinates of a location (latitude, longitude), you want to ensure these values remain constant throughout your program. Since tuples are immutable, they provide data integrity, preventing accidental modifications, which makes them ideal for this scenario.\n",
        "\n",
        "13. How do sets handle duplicate values in Python?\n",
        "\n",
        "   ANS. Sets automatically **remove duplicate values**. When you try to add a duplicate item to a set, it simply ignores it. This ensures that each element in a set is unique, making sets useful for tasks where you need to store only distinct items.\n",
        "\n",
        "14. How does the “in” keyword work differently for lists and dictionaries?\n",
        "\n",
        "  ANS. with lists, it's checking values, and with dictionaries, it's checking keys.\n",
        "\n",
        "15. Can you modify the elements of a tuple? Explain why or why not .\n",
        "\n",
        "   ANS. No, you cannot modify the elements of a tuple because tuples are immutable\n",
        "\n",
        "16. What is a nested dictionary, and give an example of its use case?\n",
        "\n",
        "  ANS. A nested dictionary is a dictionary where the value of one or more keys is another dictionary. This allows you to store complex, hierarchical data structures.\n",
        "\n",
        "  Example use case:\n",
        "  A nested dictionary can be used to store information about multiple students, where each student has a set of details (like name, age, and grades).\n",
        "\n",
        "17. Describe the time complexity of accessing elements in a dictionary?\n",
        "\n",
        "  ANS. Accessing elements in a dictionary in Python generally has a time complexity of O(1), also known as constant time.\n",
        "\n",
        "18. In what situations are lists preferred over dictionaries?\n",
        "\n",
        "   ANS. use lists when you need ordered, indexable collections of similar items.\n",
        "\n",
        "19. Why are dictionaries considered unordered, and how does that affect data\n",
        "  retrieval?\n",
        "\n",
        "   ANS. Dictionaries in Python are considered unordered because the elements are stored based on their hash values, not in a specific sequence. This means the order of the key-value pairs is not guaranteed and can change.\n",
        "\n",
        "20. Explain the difference between a list and a dictionary in terms of data\n",
        "  retrieval.\n",
        "\n",
        "  ANS. In terms of data retrieval, the main difference between a list and a dictionary lies in how data is accessed. In a list, elements are accessed by their index (position), and while accessing an item by its index is fast (O(1)), searching for a specific value requires scanning through each element, which takes linear time (O(n)).\n",
        "\n",
        "\n",
        "\n",
        "\n",
        "\n",
        "\n",
        "\n",
        "\n",
        "\n",
        "\n",
        "\n",
        "\n",
        "\n",
        "\n",
        "\n",
        "\n",
        "\n",
        "\n",
        "   \n",
        "\n",
        "\n",
        "\n",
        "   \n",
        "\n",
        "\n",
        "\n",
        "\n",
        "\n"
      ],
      "metadata": {
        "id": "Ib3PmYbOLU8R"
      }
    },
    {
      "cell_type": "markdown",
      "source": [
        "**PRACTICAL QUESTIONS**"
      ],
      "metadata": {
        "id": "_3fIMGVoR0S7"
      }
    },
    {
      "cell_type": "code",
      "source": [
        "# 1. Write a code to create a string with your name and print it.\n",
        "name=\"Aman singh\"\n",
        "print(name)"
      ],
      "metadata": {
        "colab": {
          "base_uri": "https://localhost:8080/"
        },
        "id": "NKLOtcbiR7WH",
        "outputId": "d005d4cb-6c42-4ca4-ae4a-a3de2a72f22c"
      },
      "execution_count": null,
      "outputs": [
        {
          "output_type": "stream",
          "name": "stdout",
          "text": [
            "Aman singh\n"
          ]
        }
      ]
    },
    {
      "cell_type": "code",
      "source": [
        "# 2. Write a code to find the length of the string \"Hello World\"\n",
        "a = \"Hello World\"\n",
        "len(a)"
      ],
      "metadata": {
        "colab": {
          "base_uri": "https://localhost:8080/"
        },
        "id": "_QrMaPhuSnwV",
        "outputId": "53ba44db-2a80-4c4c-ad25-7b24dcccf272"
      },
      "execution_count": null,
      "outputs": [
        {
          "output_type": "execute_result",
          "data": {
            "text/plain": [
              "11"
            ]
          },
          "metadata": {},
          "execution_count": 2
        }
      ]
    },
    {
      "cell_type": "code",
      "source": [
        "# 3. Write a code to slice the first 3 characters from the string \"Python Programming\"\n",
        "a=\"Python Programming\"\n",
        "a[0:3]"
      ],
      "metadata": {
        "colab": {
          "base_uri": "https://localhost:8080/",
          "height": 36
        },
        "id": "GQyi4cr1S2D5",
        "outputId": "7a9181ec-9eda-4716-db0a-4161dcae1162"
      },
      "execution_count": null,
      "outputs": [
        {
          "output_type": "execute_result",
          "data": {
            "text/plain": [
              "'Pyt'"
            ],
            "application/vnd.google.colaboratory.intrinsic+json": {
              "type": "string"
            }
          },
          "metadata": {},
          "execution_count": 3
        }
      ]
    },
    {
      "cell_type": "code",
      "source": [
        "# 4. Write a code to convert the string \"hello\" to uppercase\n",
        "a=\"hello\"\n",
        "a.upper()"
      ],
      "metadata": {
        "colab": {
          "base_uri": "https://localhost:8080/",
          "height": 36
        },
        "id": "iUHhlJExTO3K",
        "outputId": "b35dfaf5-e04c-4475-ec80-a2e2bad2c204"
      },
      "execution_count": null,
      "outputs": [
        {
          "output_type": "execute_result",
          "data": {
            "text/plain": [
              "'HELLO'"
            ],
            "application/vnd.google.colaboratory.intrinsic+json": {
              "type": "string"
            }
          },
          "metadata": {},
          "execution_count": 4
        }
      ]
    },
    {
      "cell_type": "code",
      "source": [
        "# 5. Write a code to replace the word \"apple\" with \"orange\" in the string \"I like apple\"\n",
        "a=\"i like apple\"\n",
        "a.replace(\"apple\",\"orange\")"
      ],
      "metadata": {
        "colab": {
          "base_uri": "https://localhost:8080/",
          "height": 36
        },
        "id": "c3TSUcBLTdMb",
        "outputId": "6ce1e59a-5428-4814-deb8-f8a08313bf2a"
      },
      "execution_count": null,
      "outputs": [
        {
          "output_type": "execute_result",
          "data": {
            "text/plain": [
              "'i like orange'"
            ],
            "application/vnd.google.colaboratory.intrinsic+json": {
              "type": "string"
            }
          },
          "metadata": {},
          "execution_count": 5
        }
      ]
    },
    {
      "cell_type": "code",
      "source": [
        "# 6. Write a code to create a list with numbers 1 to 5 and print it\n",
        "a=[1,2,3,4,5]\n",
        "print(a)\n"
      ],
      "metadata": {
        "id": "PCFDd9IVT7Of",
        "colab": {
          "base_uri": "https://localhost:8080/"
        },
        "outputId": "8016ed5a-6e9c-4693-955a-fd568855d189"
      },
      "execution_count": 1,
      "outputs": [
        {
          "output_type": "stream",
          "name": "stdout",
          "text": [
            "[1, 2, 3, 4, 5]\n"
          ]
        }
      ]
    },
    {
      "cell_type": "code",
      "source": [
        "# 7. write a code to append the number 10 to the list [1,2,3,4]\n",
        "a=[1,2,3,4]\n",
        "a.append(10)\n",
        "print(a)"
      ],
      "metadata": {
        "colab": {
          "base_uri": "https://localhost:8080/"
        },
        "id": "vQPAlA_qQW3O",
        "outputId": "1e9aa06f-828f-4436-f551-5a656612204c"
      },
      "execution_count": 2,
      "outputs": [
        {
          "output_type": "stream",
          "name": "stdout",
          "text": [
            "[1, 2, 3, 4, 10]\n"
          ]
        }
      ]
    },
    {
      "cell_type": "code",
      "source": [
        "# 8. write a code to remove the number 3 from the list [1,2,3,4,5]\n",
        "a=[1,2,3,4,5]\n",
        "a.remove(3)\n",
        "print(a)"
      ],
      "metadata": {
        "colab": {
          "base_uri": "https://localhost:8080/"
        },
        "id": "OBMT4kD4RBBV",
        "outputId": "8c9d9759-41ca-42aa-b847-840584c02f01"
      },
      "execution_count": 3,
      "outputs": [
        {
          "output_type": "stream",
          "name": "stdout",
          "text": [
            "[1, 2, 4, 5]\n"
          ]
        }
      ]
    },
    {
      "cell_type": "code",
      "source": [
        "# 9. write a code to access the second element in the list ['a','b','c', 'd']\n",
        "a=[\"a\",\"b\",\"c\",\"d\"]\n",
        "a[1]"
      ],
      "metadata": {
        "colab": {
          "base_uri": "https://localhost:8080/",
          "height": 36
        },
        "id": "QoHsnoPJRUVm",
        "outputId": "d31b8bd0-c55c-4a2b-bce7-52713bdb9680"
      },
      "execution_count": 5,
      "outputs": [
        {
          "output_type": "execute_result",
          "data": {
            "text/plain": [
              "'b'"
            ],
            "application/vnd.google.colaboratory.intrinsic+json": {
              "type": "string"
            }
          },
          "metadata": {},
          "execution_count": 5
        }
      ]
    },
    {
      "cell_type": "code",
      "source": [
        "# 10. write a code to reverse the list [10,20,30,40,50]\n",
        "a=[10,20,30,40,50]\n",
        "a.reverse()\n",
        "a"
      ],
      "metadata": {
        "colab": {
          "base_uri": "https://localhost:8080/"
        },
        "id": "q4sJItNzR2N8",
        "outputId": "8d2175e9-7fe4-4626-bf1a-dc0404e592c6"
      },
      "execution_count": 7,
      "outputs": [
        {
          "output_type": "execute_result",
          "data": {
            "text/plain": [
              "[50, 40, 30, 20, 10]"
            ]
          },
          "metadata": {},
          "execution_count": 7
        }
      ]
    },
    {
      "cell_type": "code",
      "source": [
        "# 11. write a code to create a tuple with the elements 100, 200, 300 and print it\n",
        "a=(100,200,300)\n",
        "a"
      ],
      "metadata": {
        "colab": {
          "base_uri": "https://localhost:8080/"
        },
        "id": "aNviBhBxSKfk",
        "outputId": "4e4cfa0d-f0a4-4e10-ea6b-1892025d9440"
      },
      "execution_count": 8,
      "outputs": [
        {
          "output_type": "execute_result",
          "data": {
            "text/plain": [
              "(100, 200, 300)"
            ]
          },
          "metadata": {},
          "execution_count": 8
        }
      ]
    },
    {
      "cell_type": "code",
      "source": [
        "# 12. Write a code to access the second-to-last element of the tuple ('red', 'green', 'blue', 'yellow')\n",
        "colors=(\"red\",\"green\",\"blue\",\"yellow\")\n",
        "colors[-2]"
      ],
      "metadata": {
        "colab": {
          "base_uri": "https://localhost:8080/",
          "height": 36
        },
        "id": "n2hcjso4Si7E",
        "outputId": "5f78b390-84d8-4d37-a770-459ea027da40"
      },
      "execution_count": 9,
      "outputs": [
        {
          "output_type": "execute_result",
          "data": {
            "text/plain": [
              "'blue'"
            ],
            "application/vnd.google.colaboratory.intrinsic+json": {
              "type": "string"
            }
          },
          "metadata": {},
          "execution_count": 9
        }
      ]
    },
    {
      "cell_type": "code",
      "source": [
        "# 13. Write a code to find the minimum number in the tuple (10, 20, 5, 15)\n",
        "nums_tuple = (10, 20, 5, 15)\n",
        "print(min(nums_tuple))"
      ],
      "metadata": {
        "colab": {
          "base_uri": "https://localhost:8080/"
        },
        "id": "oOJNZj_tTEmx",
        "outputId": "5a669913-e9c6-47b6-dcb3-6e4b73a8760d"
      },
      "execution_count": 10,
      "outputs": [
        {
          "output_type": "stream",
          "name": "stdout",
          "text": [
            "5\n"
          ]
        }
      ]
    },
    {
      "cell_type": "code",
      "source": [
        "# 14. Write a code to find the index of the element \"cat\" in the tuple ('dog', 'cat', 'rabbit')\n",
        "animals = ('dog', 'cat', 'rabbit')\n",
        "print(animals.index(\"cat\"))"
      ],
      "metadata": {
        "colab": {
          "base_uri": "https://localhost:8080/"
        },
        "id": "fIwl0kO-TOML",
        "outputId": "8c2daf99-5683-46a9-985d-8722bed4026d"
      },
      "execution_count": 12,
      "outputs": [
        {
          "output_type": "stream",
          "name": "stdout",
          "text": [
            "1\n"
          ]
        }
      ]
    },
    {
      "cell_type": "code",
      "source": [
        "# 15. Write a code to create a tuple containing three different fruits and check if \"kiwi\" is in it\n",
        "fruits = (\"apple\", \"banana\", \"cherry\")\n",
        "print(\"kiwi\" in fruits)"
      ],
      "metadata": {
        "colab": {
          "base_uri": "https://localhost:8080/"
        },
        "id": "r2x0lrVuTRhB",
        "outputId": "53b7ed11-5043-4e88-f190-112fb492073e"
      },
      "execution_count": 13,
      "outputs": [
        {
          "output_type": "stream",
          "name": "stdout",
          "text": [
            "False\n"
          ]
        }
      ]
    },
    {
      "cell_type": "code",
      "source": [
        "# 16. Write a code to create a set with the elements 'a', 'b', 'c' and print it\n",
        "my_set = {'a', 'b', 'c'}\n",
        "print(my_set)\n"
      ],
      "metadata": {
        "colab": {
          "base_uri": "https://localhost:8080/"
        },
        "id": "dEjmwYS-TZcH",
        "outputId": "01b01aff-27bc-48a0-ed7c-21a56c1b0af9"
      },
      "execution_count": 14,
      "outputs": [
        {
          "output_type": "stream",
          "name": "stdout",
          "text": [
            "{'b', 'c', 'a'}\n"
          ]
        }
      ]
    },
    {
      "cell_type": "code",
      "source": [
        "# 17. Write a code to clear all elements from the set {1, 2, 3, 4, 5}\n",
        "s = {1, 2, 3, 4, 5}\n",
        "s.clear()\n",
        "print(s)"
      ],
      "metadata": {
        "colab": {
          "base_uri": "https://localhost:8080/"
        },
        "id": "XuPiOCJTTey2",
        "outputId": "9f467749-1540-4682-fcbe-9a856ebf0eed"
      },
      "execution_count": 15,
      "outputs": [
        {
          "output_type": "stream",
          "name": "stdout",
          "text": [
            "set()\n"
          ]
        }
      ]
    },
    {
      "cell_type": "code",
      "source": [
        "# 18. Write a code to remove the element 4 from the set {1, 2, 3, 4}\n",
        "s2 = {1, 2, 3, 4}\n",
        "s2.remove(4)\n",
        "print(s2)"
      ],
      "metadata": {
        "colab": {
          "base_uri": "https://localhost:8080/"
        },
        "id": "swFHKaz5Ti0b",
        "outputId": "f722b572-52bd-4b68-a0ac-5d1dbd41b94c"
      },
      "execution_count": 16,
      "outputs": [
        {
          "output_type": "stream",
          "name": "stdout",
          "text": [
            "{1, 2, 3}\n"
          ]
        }
      ]
    },
    {
      "cell_type": "code",
      "source": [
        "# 19. Write a code to find the union of two sets {1, 2, 3} and {3, 4, 5}\n",
        "set1 = {1, 2, 3}\n",
        "set2 = {3, 4, 5}\n",
        "print(set1.union(set2))"
      ],
      "metadata": {
        "colab": {
          "base_uri": "https://localhost:8080/"
        },
        "id": "UW73jsMoTnh2",
        "outputId": "dd5b08fb-8f30-470c-95f5-fde7fae630f4"
      },
      "execution_count": 17,
      "outputs": [
        {
          "output_type": "stream",
          "name": "stdout",
          "text": [
            "{1, 2, 3, 4, 5}\n"
          ]
        }
      ]
    },
    {
      "cell_type": "code",
      "source": [
        "# 20. Write a code to find the intersection of two sets {1, 2, 3} and {2, 3, 4}\n",
        "print(set1.intersection({2, 3, 4}))\n"
      ],
      "metadata": {
        "colab": {
          "base_uri": "https://localhost:8080/"
        },
        "id": "R5ZpAPTcTr3H",
        "outputId": "3c095fa7-70e6-43d5-b4b1-7348946a77bc"
      },
      "execution_count": 18,
      "outputs": [
        {
          "output_type": "stream",
          "name": "stdout",
          "text": [
            "{2, 3}\n"
          ]
        }
      ]
    },
    {
      "cell_type": "code",
      "source": [
        "# 21. Write a code to create a dictionary with the keys \"name\", \"age\", and \"city\", and print it\n",
        "person = {\"name\": \"John\", \"age\": 30, \"city\": \"New York\"}\n",
        "print(person)\n"
      ],
      "metadata": {
        "colab": {
          "base_uri": "https://localhost:8080/"
        },
        "id": "35mH2qm9TuSU",
        "outputId": "f5f7ecfc-77f6-4a17-c294-1171350a0917"
      },
      "execution_count": 19,
      "outputs": [
        {
          "output_type": "stream",
          "name": "stdout",
          "text": [
            "{'name': 'John', 'age': 30, 'city': 'New York'}\n"
          ]
        }
      ]
    },
    {
      "cell_type": "code",
      "source": [
        "# 22. Write a code to add a new key-value pair \"country\": \"USA\" to the dictionary {'name': 'John', 'age': 25}\n",
        "person2 = {'name': 'John', 'age': 25}\n",
        "person2[\"country\"] = \"USA\"\n",
        "print(person2)"
      ],
      "metadata": {
        "colab": {
          "base_uri": "https://localhost:8080/"
        },
        "id": "aVl7YuQVT1Yh",
        "outputId": "43ce7aaf-f595-4a55-d71f-681a8ed29993"
      },
      "execution_count": 20,
      "outputs": [
        {
          "output_type": "stream",
          "name": "stdout",
          "text": [
            "{'name': 'John', 'age': 25, 'country': 'USA'}\n"
          ]
        }
      ]
    },
    {
      "cell_type": "code",
      "source": [
        "# 23. Write a code to access the value associated with the key \"name\" in the dictionary {'name': 'Alice', 'age': 30}\n",
        "person3 = {'name': 'Alice', 'age': 30}\n",
        "print(person3[\"name\"])\n"
      ],
      "metadata": {
        "colab": {
          "base_uri": "https://localhost:8080/"
        },
        "id": "j0ZIvM8xT4e9",
        "outputId": "1c79bffe-88ab-46bb-f858-b4ae5db1c1df"
      },
      "execution_count": 21,
      "outputs": [
        {
          "output_type": "stream",
          "name": "stdout",
          "text": [
            "Alice\n"
          ]
        }
      ]
    },
    {
      "cell_type": "code",
      "source": [
        "# 24. Write a code to remove the key \"age\" from the dictionary {'name': 'Bob', 'age': 22, 'city': 'New York'}\n",
        "person4 = {'name': 'Bob', 'age': 22, 'city': 'New York'}\n",
        "del person4[\"age\"]\n",
        "print(person4)"
      ],
      "metadata": {
        "colab": {
          "base_uri": "https://localhost:8080/"
        },
        "id": "WArPD8zPT8Dl",
        "outputId": "9bbd707b-725f-47c3-8f92-5d0f1bc1ae07"
      },
      "execution_count": 22,
      "outputs": [
        {
          "output_type": "stream",
          "name": "stdout",
          "text": [
            "{'name': 'Bob', 'city': 'New York'}\n"
          ]
        }
      ]
    },
    {
      "cell_type": "code",
      "source": [
        "# 25. Write a code to check if the key \"city\" exists in the dictionary {'name': 'Alice', 'city': 'Paris'}\n",
        "person5 = {'name': 'Alice', 'city': 'Paris'}\n",
        "print(\"city\" in person5)\n"
      ],
      "metadata": {
        "colab": {
          "base_uri": "https://localhost:8080/"
        },
        "id": "e98AkB9BUBB-",
        "outputId": "93e4c93d-58cc-45f1-dbaa-8be9dd6df790"
      },
      "execution_count": 23,
      "outputs": [
        {
          "output_type": "stream",
          "name": "stdout",
          "text": [
            "True\n"
          ]
        }
      ]
    },
    {
      "cell_type": "code",
      "source": [
        "# 26. Write a code to create a list, a tuple, and a dictionary, and print them all\n",
        "my_list = [1, 2, 3]\n",
        "my_tuple = (4, 5, 6)\n",
        "my_dict = {\"a\": 1, \"b\": 2}\n",
        "print(my_list)\n",
        "print(my_tuple)\n",
        "print(my_dict)"
      ],
      "metadata": {
        "colab": {
          "base_uri": "https://localhost:8080/"
        },
        "id": "IUj_Uz_nUELx",
        "outputId": "7eaec5e0-97f8-4cd4-9c54-807948ce0dac"
      },
      "execution_count": 24,
      "outputs": [
        {
          "output_type": "stream",
          "name": "stdout",
          "text": [
            "[1, 2, 3]\n",
            "(4, 5, 6)\n",
            "{'a': 1, 'b': 2}\n"
          ]
        }
      ]
    },
    {
      "cell_type": "code",
      "source": [
        "# 27. Write a code to create a list of 5 random numbers between 1 and 100, sort it in ascending order, and print the result\n",
        "import random\n",
        "rand_nums = [random.randint(1, 100) for _ in range(5)]\n",
        "rand_nums.sort()\n",
        "print(rand_nums)\n"
      ],
      "metadata": {
        "colab": {
          "base_uri": "https://localhost:8080/"
        },
        "id": "UH1qxZ8GUJ9P",
        "outputId": "2d057690-5629-4ff6-89c6-05b23324b621"
      },
      "execution_count": 25,
      "outputs": [
        {
          "output_type": "stream",
          "name": "stdout",
          "text": [
            "[13, 20, 30, 54, 79]\n"
          ]
        }
      ]
    },
    {
      "cell_type": "code",
      "source": [
        "# 28. Write a code to create a list with strings and print the element at the third index\n",
        "str_list = [\"apple\", \"banana\", \"cherry\", \"date\", \"elderberry\"]\n",
        "print(str_list[3])\n"
      ],
      "metadata": {
        "colab": {
          "base_uri": "https://localhost:8080/"
        },
        "id": "i5Eu0Qj9UNyR",
        "outputId": "37fcec4e-475c-4c05-b9c7-664c632507cc"
      },
      "execution_count": 26,
      "outputs": [
        {
          "output_type": "stream",
          "name": "stdout",
          "text": [
            "date\n"
          ]
        }
      ]
    },
    {
      "cell_type": "code",
      "source": [
        "# 29. Write a code to combine two dictionaries into one and print the result\n",
        "dict1 = {\"a\": 1, \"b\": 2}\n",
        "dict2 = {\"c\": 3, \"d\": 4}\n",
        "combined_dict = {**dict1, **dict2}\n",
        "print(combined_dict)"
      ],
      "metadata": {
        "colab": {
          "base_uri": "https://localhost:8080/"
        },
        "id": "WVkDbLyIURpI",
        "outputId": "efae3cd3-2823-47b5-ea2b-2e54e4e78d90"
      },
      "execution_count": 27,
      "outputs": [
        {
          "output_type": "stream",
          "name": "stdout",
          "text": [
            "{'a': 1, 'b': 2, 'c': 3, 'd': 4}\n"
          ]
        }
      ]
    },
    {
      "cell_type": "code",
      "source": [
        "# 30. Write a code to convert a list of strings into a set\n",
        "str_list2 = [\"apple\", \"banana\", \"cherry\"]\n",
        "print(set(str_list2))"
      ],
      "metadata": {
        "colab": {
          "base_uri": "https://localhost:8080/"
        },
        "id": "mUpkqtEzUZnf",
        "outputId": "738689fd-4955-4479-d196-b71a12d3b0bb"
      },
      "execution_count": 28,
      "outputs": [
        {
          "output_type": "stream",
          "name": "stdout",
          "text": [
            "{'cherry', 'apple', 'banana'}\n"
          ]
        }
      ]
    },
    {
      "cell_type": "code",
      "source": [],
      "metadata": {
        "id": "6aJZLKHOUisE"
      },
      "execution_count": null,
      "outputs": []
    }
  ]
}